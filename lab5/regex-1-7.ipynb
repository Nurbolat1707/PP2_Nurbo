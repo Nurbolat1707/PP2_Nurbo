{
 "cells": [
  {
   "cell_type": "code",
   "execution_count": 7,
   "metadata": {},
   "outputs": [
    {
     "name": "stdout",
     "output_type": "stream",
     "text": [
      "Task 1\n",
      "['abbbc , a , abb, ab, babab', 'ab_aabababbaba, ab__adddb', 'asb', 'ab_aabababbabaABcdcbdb', 'ab', 'abbb', 'abbccbcb', 'aaabcbcbcabb', 'aabb']\n",
      "Task 2\n",
      "['abbbc , a , abb', 'ab_aabababb', 'ab_aabababb', 'abbb', 'abb', 'aaabcbcbcabb', 'aabb']\n",
      "Task 3\n",
      "['b_aabababbaba', 'b__adddb', 'a_a', 's____jdfe', 'b_aabababbaba']\n",
      "Task 4\n",
      "['Ahedb', 'Bcdcbdb', 'Habcdedfgh', 'Aajajjajaa', 'Almaty', 'Love', 'You']\n",
      "Task 5\n",
      "['abb', 'abb', 'aab', 'abb', 'asb', 'aab', 'abb', 'abb', 'abb', 'aaab', 'abb', 'aabb']\n",
      "Task 6\n",
      "abbbc:::a:::abb::ab::bababa\n",
      "\n",
      "ab_aabababbaba::ab__adddb:ad:d:ssajmsam:sm:asm:ams:masmams:ams:msmsa_:a_a\n",
      "\n",
      "basbs____jdfe\n",
      "hgedgwg_Ahedb\n",
      "ab_aabababbabaABcdcbdb\n",
      "ABCDEFGHabcdedfgh\n",
      "BCAajajjajaaA\n",
      "abbb:\n",
      "abbccbcbc:\n",
      "aaabcbcbcabb:\n",
      "aabb\n",
      "AlmatyILoveYou\n",
      "b\n",
      "Task 7\n",
      "abbbc , a , abb, ab, bababa\n",
      "\n",
      "abaabababbaba, abadddb ad d ssajmsam,sm,asm,ams,masmams,ams,msmsa aa\n",
      "\n",
      "basbsjdfe\n",
      "hgedgwgAhedb\n",
      "abaabababbabaABcdcbdb\n",
      "ABCDEFGHabcdedfgh\n",
      "BCAajajjajaaA\n",
      "abbb \n",
      "abbccbcbc \n",
      "aaabcbcbcabb \n",
      "aabb\n",
      "AlmatyILoveYou\n",
      "b\n"
     ]
    }
   ],
   "source": [
    "import re \n",
    "\n",
    "\n",
    "with open(\"regex-1-7.txt\") as f:\n",
    "    data = f.read()\n",
    "\n",
    "\n",
    "print(\"Task 1\")\n",
    "matches = re.findall(\"a.*b\", data)\n",
    "print(matches)\n",
    "\n",
    "print(\"Task 2\")\n",
    "matches = re.findall(\"a.*bb+|abbb+\", data)\n",
    "print(matches)\n",
    "\n",
    "print('Task 3')\n",
    "matches = re.findall(\"[a-z]_+[a-z]+\", data)\n",
    "print(matches)\n",
    "\n",
    "print('Task 4')\n",
    "matches = re.findall(r\"[A-Z][a-z]+\", data)\n",
    "print(matches)\n",
    "\n",
    "print('Task 5')\n",
    "matches = re.findall(r\"a+.b\", data)\n",
    "print(matches)\n",
    "\n",
    "print(\"Task 6\")\n",
    "matches=re.sub(r\"[., ]\",':',data)\n",
    "print(matches)\n",
    "\n",
    "print(\"Task 7\")\n",
    "matches=re.sub(r\"_\",'',data)\n",
    "print(matches)"
   ]
  }
 ],
 "metadata": {
  "kernelspec": {
   "display_name": "Python 3",
   "language": "python",
   "name": "python3"
  },
  "language_info": {
   "codemirror_mode": {
    "name": "ipython",
    "version": 3
   },
   "file_extension": ".py",
   "mimetype": "text/x-python",
   "name": "python",
   "nbconvert_exporter": "python",
   "pygments_lexer": "ipython3",
   "version": "3.13.2"
  }
 },
 "nbformat": 4,
 "nbformat_minor": 2
}
