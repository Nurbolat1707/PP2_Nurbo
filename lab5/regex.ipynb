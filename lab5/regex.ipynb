{
 "cells": [
  {
   "cell_type": "code",
   "execution_count": 4,
   "metadata": {},
   "outputs": [
    {
     "name": "stdout",
     "output_type": "stream",
     "text": [
      "Task 8\n",
      "['Almaty', 'I', 'Love', 'You,', 'Menin', 'Atym', 'Nrbolat\\n']\n"
     ]
    }
   ],
   "source": [
    "import re \n",
    "\n",
    "\n",
    "with open(\"regex8.txt\") as f:\n",
    "    data = f.read()\n",
    "    \n",
    "print(\"Task 8\")\n",
    "\n",
    "print(re.findall(r\"[A-Z][^A-Z]*\", data))"
   ]
  },
  {
   "cell_type": "code",
   "execution_count": 5,
   "metadata": {},
   "outputs": [
    {
     "name": "stdout",
     "output_type": "stream",
     "text": [
      "['Almaty', 'I', 'Love', 'You', 'Menin', 'Atym', 'Nurbolat']\n"
     ]
    }
   ],
   "source": [
    "import re\n",
    "with open(\"regex9.txt\") as f:\n",
    "    data=f.read()\n",
    "print(re.findall(r\"[A-Z][a-z]*\", data))"
   ]
  },
  {
   "cell_type": "code",
   "execution_count": 7,
   "metadata": {},
   "outputs": [
    {
     "name": "stdout",
     "output_type": "stream",
     "text": [
      "_lmaty__ove_ou,_enin_tym_urbolat\n"
     ]
    }
   ],
   "source": [
    "import re \n",
    "\n",
    "\n",
    "with open(\"regex10.txt\") as f:\n",
    "    data = f.read()\n",
    "\n",
    "matches=re.sub(r\"[A-Z]\",'_',data)\n",
    "print(matches)"
   ]
  }
 ],
 "metadata": {
  "kernelspec": {
   "display_name": "Python 3",
   "language": "python",
   "name": "python3"
  },
  "language_info": {
   "codemirror_mode": {
    "name": "ipython",
    "version": 3
   },
   "file_extension": ".py",
   "mimetype": "text/x-python",
   "name": "python",
   "nbconvert_exporter": "python",
   "pygments_lexer": "ipython3",
   "version": "3.13.2"
  }
 },
 "nbformat": 4,
 "nbformat_minor": 2
}
