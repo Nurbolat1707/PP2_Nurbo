{
 "cells": [
  {
   "cell_type": "code",
   "execution_count": 1,
   "metadata": {},
   "outputs": [
    {
     "name": "stdout",
     "output_type": "stream",
     "text": [
      "Current time:  2025-02-20\n",
      "Substact five days :  2025-02-15\n"
     ]
    }
   ],
   "source": [
    "from datetime import date,  timedelta, datetime\n",
    "current = date.today() - timedelta(5)\n",
    "print(\"Current time: \", date.today())\n",
    "print(\"Substact five days : \",current)"
   ]
  },
  {
   "cell_type": "code",
   "execution_count": 2,
   "metadata": {},
   "outputs": [
    {
     "name": "stdout",
     "output_type": "stream",
     "text": [
      "Yesterday:  19-02-2025\n",
      "Today:  20-02-2025\n",
      "Tomorrow:  21-02-2025\n"
     ]
    }
   ],
   "source": [
    "from datetime import date,  timedelta, datetime\n",
    "time = datetime.now()-timedelta(1)\n",
    "yesterday = time.strftime(\"%d-%m-%Y\")\n",
    "\n",
    "print(\"Yesterday: \",yesterday)\n",
    "\n",
    "time = datetime.now()\n",
    "today = time.strftime(\"%d-%m-%Y\")\n",
    "\n",
    "print(\"Today: \",today)\n",
    "\n",
    "time = datetime.now()+timedelta(1)\n",
    "tomorrow = time.strftime(\"%d-%m-%Y\")\n",
    "\n",
    "print(\"Tomorrow: \", tomorrow)"
   ]
  },
  {
   "cell_type": "code",
   "execution_count": 3,
   "metadata": {},
   "outputs": [
    {
     "name": "stdout",
     "output_type": "stream",
     "text": [
      "2025-02-20, 01:28:05\n"
     ]
    }
   ],
   "source": [
    "from datetime import date,timedelta,datetime\n",
    "time = datetime.now()\n",
    "withoutmiliseconds = time.strftime(\"%Y-%m-%d, %H:%M:%S\")\n",
    "print(withoutmiliseconds)"
   ]
  },
  {
   "cell_type": "code",
   "execution_count": 4,
   "metadata": {},
   "outputs": [
    {
     "name": "stdout",
     "output_type": "stream",
     "text": [
      "172800.000082016\n"
     ]
    }
   ],
   "source": [
    "from datetime import date,timedelta, datetime\n",
    "yesterday = datetime.now()-timedelta(1)\n",
    "tomorrow = datetime.now()+timedelta(1)\n",
    "\n",
    "\n",
    "yesterday = datetime.timestamp(yesterday)\n",
    "tomorrow = datetime.timestamp(tomorrow)\n",
    "\n",
    "print(tomorrow-yesterday)"
   ]
  }
 ],
 "metadata": {
  "kernelspec": {
   "display_name": "Python 3",
   "language": "python",
   "name": "python3"
  },
  "language_info": {
   "codemirror_mode": {
    "name": "ipython",
    "version": 3
   },
   "file_extension": ".py",
   "mimetype": "text/x-python",
   "name": "python",
   "nbconvert_exporter": "python",
   "pygments_lexer": "ipython3",
   "version": "3.13.2"
  }
 },
 "nbformat": 4,
 "nbformat_minor": 2
}
