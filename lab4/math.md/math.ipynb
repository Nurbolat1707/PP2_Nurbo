{
 "cells": [
  {
   "cell_type": "code",
   "execution_count": 1,
   "metadata": {},
   "outputs": [
    {
     "name": "stdout",
     "output_type": "stream",
     "text": [
      "Radian: 0.2617993877991494\n"
     ]
    }
   ],
   "source": [
    "import math\n",
    "k=float(input(\"\"))\n",
    "print(\"Radian:\",math.radians(k))"
   ]
  },
  {
   "cell_type": "code",
   "execution_count": 2,
   "metadata": {},
   "outputs": [
    {
     "name": "stdout",
     "output_type": "stream",
     "text": [
      "area: 27.5\n"
     ]
    }
   ],
   "source": [
    "import math\n",
    "h=float(input(\"Hight:\"))\n",
    "a=float(input(\"Base,first:\"))\n",
    "b=float(input(\"Base,second:\"))\n",
    "print(\"area:\",(a+b)*0.5*h)"
   ]
  },
  {
   "cell_type": "code",
   "execution_count": 3,
   "metadata": {},
   "outputs": [
    {
     "name": "stdout",
     "output_type": "stream",
     "text": [
      "Area: 625.0000000000001\n"
     ]
    }
   ],
   "source": [
    "import math\n",
    "n=int(input(\"Input number of sides:\"))\n",
    "a=int(input(\"Input the length of a side:\"))\n",
    "area = (n * a**2) / (4 * math.tan(math.pi / n))\n",
    "print(\"Area:\",area)"
   ]
  },
  {
   "cell_type": "code",
   "execution_count": 4,
   "metadata": {},
   "outputs": [
    {
     "name": "stdout",
     "output_type": "stream",
     "text": [
      "30.0\n"
     ]
    }
   ],
   "source": [
    "import math\n",
    "b=int(input(\"a:\"))\n",
    "a=int(input(\"b:\"))\n",
    "print(float(a*b))"
   ]
  }
 ],
 "metadata": {
  "kernelspec": {
   "display_name": "Python 3",
   "language": "python",
   "name": "python3"
  },
  "language_info": {
   "codemirror_mode": {
    "name": "ipython",
    "version": 3
   },
   "file_extension": ".py",
   "mimetype": "text/x-python",
   "name": "python",
   "nbconvert_exporter": "python",
   "pygments_lexer": "ipython3",
   "version": "3.13.2"
  }
 },
 "nbformat": 4,
 "nbformat_minor": 2
}
