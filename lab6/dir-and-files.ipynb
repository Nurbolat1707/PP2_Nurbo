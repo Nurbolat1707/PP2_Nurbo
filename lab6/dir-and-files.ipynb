{
 "cells": [
  {
   "cell_type": "code",
   "execution_count": 7,
   "metadata": {},
   "outputs": [
    {
     "name": "stdout",
     "output_type": "stream",
     "text": [
      "Hello, welcome to!\n",
      "good day, see you!\n"
     ]
    }
   ],
   "source": [
    "f = open(\"demo.txt\", \"r\")\n",
    "print(f.read())"
   ]
  },
  {
   "cell_type": "code",
   "execution_count": 8,
   "metadata": {},
   "outputs": [
    {
     "name": "stdout",
     "output_type": "stream",
     "text": [
      "Hello, welcome to!\n",
      "\n",
      "good day, see you!\n"
     ]
    }
   ],
   "source": [
    "f = open(\"demo.txt\", \"r\")\n",
    "print(f.readline())\n",
    "print(f.readline())"
   ]
  },
  {
   "cell_type": "code",
   "execution_count": 13,
   "metadata": {},
   "outputs": [
    {
     "name": "stdout",
     "output_type": "stream",
     "text": [
      "Hello, welcome to!\n",
      "\n",
      "good day, see you!\n"
     ]
    }
   ],
   "source": [
    "f = open(\"demo.txt\", \"r\")\n",
    "for i in f:\n",
    "    print(i)"
   ]
  },
  {
   "cell_type": "code",
   "execution_count": 14,
   "metadata": {},
   "outputs": [
    {
     "name": "stdout",
     "output_type": "stream",
     "text": [
      "Hello, welcome to!\n",
      "\n"
     ]
    }
   ],
   "source": [
    "f = open(\"demo.txt\", \"r\")\n",
    "print(f.readline())\n",
    "f.close()"
   ]
  },
  {
   "cell_type": "code",
   "execution_count": 46,
   "metadata": {},
   "outputs": [
    {
     "name": "stdout",
     "output_type": "stream",
     "text": [
      "Invalid path!\n"
     ]
    }
   ],
   "source": [
    "import os\n",
    "\n",
    "def list_items(path):\n",
    "    if not os.path.exists(path):\n",
    "        print(\"Invalid path!\")\n",
    "        return\n",
    "    \n",
    "    print(\"Directories:\")\n",
    "    directories = [d for d in os.listdir(path) if os.path.isdir(os.path.join(path, d))]\n",
    "    print(directories if directories else \"No directories found.\")\n",
    "    \n",
    "    print(\"\\nFiles:\")\n",
    "    files = [f for f in os.listdir(path) if os.path.isfile(os.path.join(path, f))]\n",
    "    print(files if files else \"No files found.\")\n",
    "    \n",
    "    print(\"\\nAll Directories and Files:\")\n",
    "    all_items = os.listdir(path)\n",
    "    print(all_items if all_items else \"No items found.\")\n",
    "\n",
    "# Example Usage\n",
    "path = input(\"Enter the directory path: \")\n",
    "list_items(path)"
   ]
  },
  {
   "cell_type": "code",
   "execution_count": 48,
   "metadata": {},
   "outputs": [
    {
     "name": "stdout",
     "output_type": "stream",
     "text": [
      "Baga Jaga !\n"
     ]
    }
   ],
   "source": [
    "f = open(\"demo2.txt\", \"w\")\n",
    "f.write(\"Baga Jaga !\")\n",
    "f.close()\n",
    "\n",
    "#open and read the file after the appending:\n",
    "f = open(\"demo2.txt\", \"r\")\n",
    "print(f.read())"
   ]
  },
  {
   "cell_type": "code",
   "execution_count": 39,
   "metadata": {},
   "outputs": [],
   "source": [
    "import os\n",
    "os.remove(\"demo.txt\")"
   ]
  },
  {
   "cell_type": "code",
   "execution_count": 41,
   "metadata": {},
   "outputs": [],
   "source": [
    "import os\n",
    "if os.path.exists(\"abc\"):\n",
    "  os.remove(\"abc\")\n",
    "else:\n",
    "  print(\"The file does not exist\")"
   ]
  },
  {
   "cell_type": "code",
   "execution_count": 43,
   "metadata": {},
   "outputs": [],
   "source": [
    "import os\n",
    "os.rmdir(\"demofile.txt\")"
   ]
  },
  {
   "cell_type": "code",
   "execution_count": 49,
   "metadata": {},
   "outputs": [
    {
     "name": "stdout",
     "output_type": "stream",
     "text": [
      "Number of lines in the file: 4\n"
     ]
    }
   ],
   "source": [
    "def count_lines(file_path):\n",
    "    try:\n",
    "        with open(file_path, 'r', encoding='utf-8') as file:\n",
    "            return sum(1 for line in file)\n",
    "    except FileNotFoundError:\n",
    "        print(\"File not found. Please provide a valid file path.\")\n",
    "        return None\n",
    "\n",
    "# Example usage\n",
    "file_path = \"demo2.txt\"  # Replace with your file path\n",
    "line_count = count_lines(file_path)\n",
    "if line_count is not None:\n",
    "    print(f\"Number of lines in the file: {line_count}\")\n"
   ]
  },
  {
   "cell_type": "code",
   "execution_count": 1,
   "metadata": {},
   "outputs": [
    {
     "name": "stdout",
     "output_type": "stream",
     "text": [
      "['all labs', 'helloworld', 'lab10', 'labs', 'python', 'works', 'Новая папка']\n"
     ]
    }
   ],
   "source": [
    "import os\n",
    "\n",
    "path= r\"\\Users\\toleg\\projects\"\n",
    "all=list(os.listdir(path))\n",
    "print(all)"
   ]
  },
  {
   "cell_type": "code",
   "execution_count": 2,
   "metadata": {},
   "outputs": [
    {
     "name": "stdout",
     "output_type": "stream",
     "text": [
      "path does exist\n",
      "readable\n",
      "writable\n",
      "executable\n"
     ]
    }
   ],
   "source": [
    "import os\n",
    "def check_access(path):\n",
    "    if not os.path.exists(path):\n",
    "        print(\"path doesn't exist\")\n",
    "        return \n",
    "    else:\n",
    "        print('path does exist')\n",
    "        if os.access(path, os.R_OK):\n",
    "            print(\"readable\")\n",
    "        else:\n",
    "            print(\"don't readable\")\n",
    "        if os.access(path, os.W_OK):\n",
    "            print(\"writable\")\n",
    "        else:\n",
    "            print(\"don't writable\")\n",
    "        if os.access(path, os.X_OK):\n",
    "            print(\"executable\")\n",
    "        else:\n",
    "            print(\"don't executable\")\n",
    "\n",
    "if __name__ == \"__main__\":\n",
    "    path_to_check = r\"c:\\Users\\toleg\\projects\\works\"\n",
    "    \n",
    "check_access(path_to_check)"
   ]
  },
  {
   "cell_type": "code",
   "execution_count": 3,
   "metadata": {},
   "outputs": [
    {
     "name": "stdout",
     "output_type": "stream",
     "text": [
      "Name of file:  projects\n",
      "name of directory:  \\Users\\toleg\n",
      "success\n"
     ]
    }
   ],
   "source": [
    "import os\n",
    "path= r\"\\Users\\toleg\\projects\"\n",
    "def checker(path):\n",
    "    if os.path.exists(path):\n",
    "        print(\"Name of file: \", os.path.basename(path))\n",
    "        print(\"name of directory: \", os.path.dirname(path))\n",
    "        return \"success\"\n",
    "    \n",
    "print(checker(path))"
   ]
  },
  {
   "cell_type": "code",
   "execution_count": 6,
   "metadata": {},
   "outputs": [
    {
     "name": "stdout",
     "output_type": "stream",
     "text": [
      "2\n"
     ]
    }
   ],
   "source": [
    "import os\n",
    "import string\n",
    "\n",
    "with open(\"some.txt\") as f:\n",
    "    data = f.read()  \n",
    "\n",
    "print(len(list(data.split(\"\\n\"))))\n",
    "f.close()"
   ]
  },
  {
   "cell_type": "code",
   "execution_count": 7,
   "metadata": {},
   "outputs": [],
   "source": [
    "def writesome(list_of_elements):\n",
    "    with open(\"some.txt\", '+a') as f:\n",
    "        text = \"\\n\"\n",
    "        for i in list_of_elements:\n",
    "            text+=str(i)+' '\n",
    "        f.write(text)\n",
    "        f.close()\n",
    "    \n",
    " \n",
    "\n",
    "writesome([12345, 56789, 90987654, \"dfghjkl\",\"efrgf\",34,34])"
   ]
  },
  {
   "cell_type": "code",
   "execution_count": 8,
   "metadata": {},
   "outputs": [],
   "source": [
    "import string\n",
    "\n",
    "def generate_files():\n",
    "    for letter in string.ascii_uppercase:\n",
    "        filename = letter + \".txt\"\n",
    "        with open(filename, 'w') as file:\n",
    "            file.write(\"hello world\")\n",
    "\n",
    "if __name__ == \"__main__\":\n",
    "    generate_files()"
   ]
  },
  {
   "cell_type": "code",
   "execution_count": 9,
   "metadata": {},
   "outputs": [
    {
     "data": {
      "text/plain": [
       "0"
      ]
     },
     "execution_count": 9,
     "metadata": {},
     "output_type": "execute_result"
    }
   ],
   "source": [
    "def copier():\n",
    "    string = str(input(\"Enter the name of file: \"))\n",
    "    with open(string) as file:\n",
    "        data = file.read()\n",
    "    file.close()\n",
    "    copy_path = \"\"\n",
    "    for i in range(len(string)):\n",
    "        if string[i]=='.':\n",
    "            copy_path+='_1'\n",
    "        copy_path+=string[i]\n",
    "    with open(copy_path, \"+w\") as file_copy:\n",
    "        file_copy.write(data)\n",
    "    file.close()\n",
    "    \n",
    "    return 0\n",
    "\n",
    "copier()"
   ]
  },
  {
   "cell_type": "code",
   "execution_count": 10,
   "metadata": {},
   "outputs": [
    {
     "name": "stdout",
     "output_type": "stream",
     "text": [
      "file some.txt delete\n"
     ]
    }
   ],
   "source": [
    "import os\n",
    "def delete_file(file_path):\n",
    "    if os.path.exists(file_path):\n",
    "        if os.access(file_path,os.W_OK):\n",
    "            try:\n",
    "                os.remove(file_path)\n",
    "                print(f\"file {file_path} delete\") \n",
    "            except Exception as e:\n",
    "                print(\"Error\")\n",
    "                \n",
    "                \n",
    "        else:\n",
    "            print(\"You do not have write access\")\n",
    "    else:\n",
    "        print(f\"File '{file_path}' does not exist.\")\n",
    "            \n",
    "        \n",
    "\n",
    "\n",
    "path_delete=str(input(\"path_delere_file:\"))\n",
    "\n",
    "delete_file(path_delete)"
   ]
  }
 ],
 "metadata": {
  "kernelspec": {
   "display_name": "Python 3",
   "language": "python",
   "name": "python3"
  },
  "language_info": {
   "codemirror_mode": {
    "name": "ipython",
    "version": 3
   },
   "file_extension": ".py",
   "mimetype": "text/x-python",
   "name": "python",
   "nbconvert_exporter": "python",
   "pygments_lexer": "ipython3",
   "version": "3.13.2"
  }
 },
 "nbformat": 4,
 "nbformat_minor": 2
}
