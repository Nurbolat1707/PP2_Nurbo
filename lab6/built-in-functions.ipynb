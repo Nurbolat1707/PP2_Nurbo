{
 "cells": [
  {
   "cell_type": "code",
   "execution_count": 2,
   "metadata": {},
   "outputs": [
    {
     "name": "stdout",
     "output_type": "stream",
     "text": [
      "6\n"
     ]
    }
   ],
   "source": [
    "size_list=input(\"size list:\")\n",
    "my_list=list(map(int,size_list.split()))\n",
    "multiplay=1\n",
    "for i in my_list:\n",
    "    multiplay*=i\n",
    "print(multiplay)"
   ]
  },
  {
   "cell_type": "code",
   "execution_count": 3,
   "metadata": {},
   "outputs": [
    {
     "name": "stdout",
     "output_type": "stream",
     "text": [
      "sum upper case: 1\n",
      "sum lower case: 18\n"
     ]
    }
   ],
   "source": [
    "def count_letters(letter):\n",
    "    upper=0\n",
    "    lower=0\n",
    "    for i in letter:\n",
    "        if i>=\"A\" and i<=\"Z\":\n",
    "            upper+=1\n",
    "        else:\n",
    "            lower+=1\n",
    "    print(\"sum upper case:\", upper)\n",
    "    print(\"sum lower case:\", lower)\n",
    "            \n",
    "        \n",
    "\n",
    "soilem=str(input(\"enter sentence:\"))\n",
    "count_letters(soilem)"
   ]
  },
  {
   "cell_type": "code",
   "execution_count": 5,
   "metadata": {},
   "outputs": [
    {
     "name": "stdout",
     "output_type": "stream",
     "text": [
      "True\n"
     ]
    }
   ],
   "source": [
    "def polindrom(soilem,teris_soilem):\n",
    "    for i in soilem:\n",
    "        for j in teris_soilem:\n",
    "            if i!=j:\n",
    "                return False\n",
    "                break\n",
    "            return True\n",
    "        \n",
    "    \n",
    "\n",
    "sentence=str(input(\"enter sentence:\"))\n",
    "soilem_reverse=''.join(reversed(sentence))\n",
    "print(polindrom(sentence,soilem_reverse))"
   ]
  },
  {
   "cell_type": "code",
   "execution_count": 6,
   "metadata": {},
   "outputs": [
    {
     "name": "stdout",
     "output_type": "stream",
     "text": [
      "Square root of 16 after 36 miliseconds is 4.0\n"
     ]
    }
   ],
   "source": [
    "import math\n",
    "import time\n",
    "\n",
    "time_miliseconds=int(input(\"Enter  miliseconds:\"))\n",
    "time2_miliseconds=int(input(\"Enter 2nd miliseconds:\"))\n",
    "\n",
    "print(f\"Square root of {time_miliseconds} after {time2_miliseconds} miliseconds is {math.sqrt(time_miliseconds)}\")"
   ]
  },
  {
   "cell_type": "code",
   "execution_count": 10,
   "metadata": {},
   "outputs": [
    {
     "name": "stdout",
     "output_type": "stream",
     "text": [
      "all True mylist: True\n"
     ]
    }
   ],
   "source": [
    "size_mylist=input(\"Enter  mylist:\")\n",
    "mylist=list(map(int,size_mylist.split()))\n",
    "print(\"all True mylist:\",all(mylist))"
   ]
  }
 ],
 "metadata": {
  "kernelspec": {
   "display_name": "Python 3",
   "language": "python",
   "name": "python3"
  },
  "language_info": {
   "codemirror_mode": {
    "name": "ipython",
    "version": 3
   },
   "file_extension": ".py",
   "mimetype": "text/x-python",
   "name": "python",
   "nbconvert_exporter": "python",
   "pygments_lexer": "ipython3",
   "version": "3.13.2"
  }
 },
 "nbformat": 4,
 "nbformat_minor": 2
}
